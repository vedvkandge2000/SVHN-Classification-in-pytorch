{
  "nbformat": 4,
  "nbformat_minor": 0,
  "metadata": {
    "colab": {
      "name": "DSAI TASK.ipynb",
      "provenance": [],
      "collapsed_sections": [],
      "mount_file_id": "1gce2WTjPoUahDH8FW-QWLDUaxgkrpe10",
      "authorship_tag": "ABX9TyNuxVyhv1Hx+roCTZ335Z/A",
      "include_colab_link": true
    },
    "kernelspec": {
      "name": "python3",
      "display_name": "Python 3"
    },
    "accelerator": "GPU",
    "widgets": {
      "application/vnd.jupyter.widget-state+json": {
        "aa7841715349416995d175d833e5caf3": {
          "model_module": "@jupyter-widgets/controls",
          "model_name": "HBoxModel",
          "state": {
            "_view_name": "HBoxView",
            "_dom_classes": [],
            "_model_name": "HBoxModel",
            "_view_module": "@jupyter-widgets/controls",
            "_model_module_version": "1.5.0",
            "_view_count": null,
            "_view_module_version": "1.5.0",
            "box_style": "",
            "layout": "IPY_MODEL_12a10d305d2f441a9745fbd434a63674",
            "_model_module": "@jupyter-widgets/controls",
            "children": [
              "IPY_MODEL_ca905f49d6c74f18901684d283a2b906",
              "IPY_MODEL_ff490f399a1a495da27d730aacf1bc1b"
            ]
          }
        },
        "12a10d305d2f441a9745fbd434a63674": {
          "model_module": "@jupyter-widgets/base",
          "model_name": "LayoutModel",
          "state": {
            "_view_name": "LayoutView",
            "grid_template_rows": null,
            "right": null,
            "justify_content": null,
            "_view_module": "@jupyter-widgets/base",
            "overflow": null,
            "_model_module_version": "1.2.0",
            "_view_count": null,
            "flex_flow": null,
            "width": null,
            "min_width": null,
            "border": null,
            "align_items": null,
            "bottom": null,
            "_model_module": "@jupyter-widgets/base",
            "top": null,
            "grid_column": null,
            "overflow_y": null,
            "overflow_x": null,
            "grid_auto_flow": null,
            "grid_area": null,
            "grid_template_columns": null,
            "flex": null,
            "_model_name": "LayoutModel",
            "justify_items": null,
            "grid_row": null,
            "max_height": null,
            "align_content": null,
            "visibility": null,
            "align_self": null,
            "height": null,
            "min_height": null,
            "padding": null,
            "grid_auto_rows": null,
            "grid_gap": null,
            "max_width": null,
            "order": null,
            "_view_module_version": "1.2.0",
            "grid_template_areas": null,
            "object_position": null,
            "object_fit": null,
            "grid_auto_columns": null,
            "margin": null,
            "display": null,
            "left": null
          }
        },
        "ca905f49d6c74f18901684d283a2b906": {
          "model_module": "@jupyter-widgets/controls",
          "model_name": "FloatProgressModel",
          "state": {
            "_view_name": "ProgressView",
            "style": "IPY_MODEL_9a9f421763c742229d79336886c7420b",
            "_dom_classes": [],
            "description": "",
            "_model_name": "FloatProgressModel",
            "bar_style": "info",
            "max": 1,
            "_view_module": "@jupyter-widgets/controls",
            "_model_module_version": "1.5.0",
            "value": 1,
            "_view_count": null,
            "_view_module_version": "1.5.0",
            "orientation": "horizontal",
            "min": 0,
            "description_tooltip": null,
            "_model_module": "@jupyter-widgets/controls",
            "layout": "IPY_MODEL_89f879d34d944abca8ca80c1abe76c8e"
          }
        },
        "ff490f399a1a495da27d730aacf1bc1b": {
          "model_module": "@jupyter-widgets/controls",
          "model_name": "HTMLModel",
          "state": {
            "_view_name": "HTMLView",
            "style": "IPY_MODEL_05e41cc3672b44b1befc396ac9956fb7",
            "_dom_classes": [],
            "description": "",
            "_model_name": "HTMLModel",
            "placeholder": "​",
            "_view_module": "@jupyter-widgets/controls",
            "_model_module_version": "1.5.0",
            "value": " 182042624/? [00:30&lt;00:00, 21677041.23it/s]",
            "_view_count": null,
            "_view_module_version": "1.5.0",
            "description_tooltip": null,
            "_model_module": "@jupyter-widgets/controls",
            "layout": "IPY_MODEL_afe7b486f3d140219ff978bde5f21266"
          }
        },
        "9a9f421763c742229d79336886c7420b": {
          "model_module": "@jupyter-widgets/controls",
          "model_name": "ProgressStyleModel",
          "state": {
            "_view_name": "StyleView",
            "_model_name": "ProgressStyleModel",
            "description_width": "initial",
            "_view_module": "@jupyter-widgets/base",
            "_model_module_version": "1.5.0",
            "_view_count": null,
            "_view_module_version": "1.2.0",
            "bar_color": null,
            "_model_module": "@jupyter-widgets/controls"
          }
        },
        "89f879d34d944abca8ca80c1abe76c8e": {
          "model_module": "@jupyter-widgets/base",
          "model_name": "LayoutModel",
          "state": {
            "_view_name": "LayoutView",
            "grid_template_rows": null,
            "right": null,
            "justify_content": null,
            "_view_module": "@jupyter-widgets/base",
            "overflow": null,
            "_model_module_version": "1.2.0",
            "_view_count": null,
            "flex_flow": null,
            "width": null,
            "min_width": null,
            "border": null,
            "align_items": null,
            "bottom": null,
            "_model_module": "@jupyter-widgets/base",
            "top": null,
            "grid_column": null,
            "overflow_y": null,
            "overflow_x": null,
            "grid_auto_flow": null,
            "grid_area": null,
            "grid_template_columns": null,
            "flex": null,
            "_model_name": "LayoutModel",
            "justify_items": null,
            "grid_row": null,
            "max_height": null,
            "align_content": null,
            "visibility": null,
            "align_self": null,
            "height": null,
            "min_height": null,
            "padding": null,
            "grid_auto_rows": null,
            "grid_gap": null,
            "max_width": null,
            "order": null,
            "_view_module_version": "1.2.0",
            "grid_template_areas": null,
            "object_position": null,
            "object_fit": null,
            "grid_auto_columns": null,
            "margin": null,
            "display": null,
            "left": null
          }
        },
        "05e41cc3672b44b1befc396ac9956fb7": {
          "model_module": "@jupyter-widgets/controls",
          "model_name": "DescriptionStyleModel",
          "state": {
            "_view_name": "StyleView",
            "_model_name": "DescriptionStyleModel",
            "description_width": "",
            "_view_module": "@jupyter-widgets/base",
            "_model_module_version": "1.5.0",
            "_view_count": null,
            "_view_module_version": "1.2.0",
            "_model_module": "@jupyter-widgets/controls"
          }
        },
        "afe7b486f3d140219ff978bde5f21266": {
          "model_module": "@jupyter-widgets/base",
          "model_name": "LayoutModel",
          "state": {
            "_view_name": "LayoutView",
            "grid_template_rows": null,
            "right": null,
            "justify_content": null,
            "_view_module": "@jupyter-widgets/base",
            "overflow": null,
            "_model_module_version": "1.2.0",
            "_view_count": null,
            "flex_flow": null,
            "width": null,
            "min_width": null,
            "border": null,
            "align_items": null,
            "bottom": null,
            "_model_module": "@jupyter-widgets/base",
            "top": null,
            "grid_column": null,
            "overflow_y": null,
            "overflow_x": null,
            "grid_auto_flow": null,
            "grid_area": null,
            "grid_template_columns": null,
            "flex": null,
            "_model_name": "LayoutModel",
            "justify_items": null,
            "grid_row": null,
            "max_height": null,
            "align_content": null,
            "visibility": null,
            "align_self": null,
            "height": null,
            "min_height": null,
            "padding": null,
            "grid_auto_rows": null,
            "grid_gap": null,
            "max_width": null,
            "order": null,
            "_view_module_version": "1.2.0",
            "grid_template_areas": null,
            "object_position": null,
            "object_fit": null,
            "grid_auto_columns": null,
            "margin": null,
            "display": null,
            "left": null
          }
        },
        "74d7561337ff4cf5b635e5adb7b34838": {
          "model_module": "@jupyter-widgets/controls",
          "model_name": "HBoxModel",
          "state": {
            "_view_name": "HBoxView",
            "_dom_classes": [],
            "_model_name": "HBoxModel",
            "_view_module": "@jupyter-widgets/controls",
            "_model_module_version": "1.5.0",
            "_view_count": null,
            "_view_module_version": "1.5.0",
            "box_style": "",
            "layout": "IPY_MODEL_ab382357093a4834836f69f9278a5fd4",
            "_model_module": "@jupyter-widgets/controls",
            "children": [
              "IPY_MODEL_6ce037ca40c346bc8e9eb45934a10f5b",
              "IPY_MODEL_f3d781a2b4f44ab79fe5812e8342a9a9"
            ]
          }
        },
        "ab382357093a4834836f69f9278a5fd4": {
          "model_module": "@jupyter-widgets/base",
          "model_name": "LayoutModel",
          "state": {
            "_view_name": "LayoutView",
            "grid_template_rows": null,
            "right": null,
            "justify_content": null,
            "_view_module": "@jupyter-widgets/base",
            "overflow": null,
            "_model_module_version": "1.2.0",
            "_view_count": null,
            "flex_flow": null,
            "width": null,
            "min_width": null,
            "border": null,
            "align_items": null,
            "bottom": null,
            "_model_module": "@jupyter-widgets/base",
            "top": null,
            "grid_column": null,
            "overflow_y": null,
            "overflow_x": null,
            "grid_auto_flow": null,
            "grid_area": null,
            "grid_template_columns": null,
            "flex": null,
            "_model_name": "LayoutModel",
            "justify_items": null,
            "grid_row": null,
            "max_height": null,
            "align_content": null,
            "visibility": null,
            "align_self": null,
            "height": null,
            "min_height": null,
            "padding": null,
            "grid_auto_rows": null,
            "grid_gap": null,
            "max_width": null,
            "order": null,
            "_view_module_version": "1.2.0",
            "grid_template_areas": null,
            "object_position": null,
            "object_fit": null,
            "grid_auto_columns": null,
            "margin": null,
            "display": null,
            "left": null
          }
        },
        "6ce037ca40c346bc8e9eb45934a10f5b": {
          "model_module": "@jupyter-widgets/controls",
          "model_name": "FloatProgressModel",
          "state": {
            "_view_name": "ProgressView",
            "style": "IPY_MODEL_c6b28b38f8ca46ab8d0574bf5b6a593a",
            "_dom_classes": [],
            "description": "",
            "_model_name": "FloatProgressModel",
            "bar_style": "info",
            "max": 1,
            "_view_module": "@jupyter-widgets/controls",
            "_model_module_version": "1.5.0",
            "value": 1,
            "_view_count": null,
            "_view_module_version": "1.5.0",
            "orientation": "horizontal",
            "min": 0,
            "description_tooltip": null,
            "_model_module": "@jupyter-widgets/controls",
            "layout": "IPY_MODEL_ed8cec4090fc4da49f48ef4efce922ab"
          }
        },
        "f3d781a2b4f44ab79fe5812e8342a9a9": {
          "model_module": "@jupyter-widgets/controls",
          "model_name": "HTMLModel",
          "state": {
            "_view_name": "HTMLView",
            "style": "IPY_MODEL_3f6b024df9da4a8b9ea3586dca5cb824",
            "_dom_classes": [],
            "description": "",
            "_model_name": "HTMLModel",
            "placeholder": "​",
            "_view_module": "@jupyter-widgets/controls",
            "_model_module_version": "1.5.0",
            "value": " 64282624/? [00:16&lt;00:00, 11403183.75it/s]",
            "_view_count": null,
            "_view_module_version": "1.5.0",
            "description_tooltip": null,
            "_model_module": "@jupyter-widgets/controls",
            "layout": "IPY_MODEL_c15ae49a7f24477ab9ea4a04e10b7b6e"
          }
        },
        "c6b28b38f8ca46ab8d0574bf5b6a593a": {
          "model_module": "@jupyter-widgets/controls",
          "model_name": "ProgressStyleModel",
          "state": {
            "_view_name": "StyleView",
            "_model_name": "ProgressStyleModel",
            "description_width": "initial",
            "_view_module": "@jupyter-widgets/base",
            "_model_module_version": "1.5.0",
            "_view_count": null,
            "_view_module_version": "1.2.0",
            "bar_color": null,
            "_model_module": "@jupyter-widgets/controls"
          }
        },
        "ed8cec4090fc4da49f48ef4efce922ab": {
          "model_module": "@jupyter-widgets/base",
          "model_name": "LayoutModel",
          "state": {
            "_view_name": "LayoutView",
            "grid_template_rows": null,
            "right": null,
            "justify_content": null,
            "_view_module": "@jupyter-widgets/base",
            "overflow": null,
            "_model_module_version": "1.2.0",
            "_view_count": null,
            "flex_flow": null,
            "width": null,
            "min_width": null,
            "border": null,
            "align_items": null,
            "bottom": null,
            "_model_module": "@jupyter-widgets/base",
            "top": null,
            "grid_column": null,
            "overflow_y": null,
            "overflow_x": null,
            "grid_auto_flow": null,
            "grid_area": null,
            "grid_template_columns": null,
            "flex": null,
            "_model_name": "LayoutModel",
            "justify_items": null,
            "grid_row": null,
            "max_height": null,
            "align_content": null,
            "visibility": null,
            "align_self": null,
            "height": null,
            "min_height": null,
            "padding": null,
            "grid_auto_rows": null,
            "grid_gap": null,
            "max_width": null,
            "order": null,
            "_view_module_version": "1.2.0",
            "grid_template_areas": null,
            "object_position": null,
            "object_fit": null,
            "grid_auto_columns": null,
            "margin": null,
            "display": null,
            "left": null
          }
        },
        "3f6b024df9da4a8b9ea3586dca5cb824": {
          "model_module": "@jupyter-widgets/controls",
          "model_name": "DescriptionStyleModel",
          "state": {
            "_view_name": "StyleView",
            "_model_name": "DescriptionStyleModel",
            "description_width": "",
            "_view_module": "@jupyter-widgets/base",
            "_model_module_version": "1.5.0",
            "_view_count": null,
            "_view_module_version": "1.2.0",
            "_model_module": "@jupyter-widgets/controls"
          }
        },
        "c15ae49a7f24477ab9ea4a04e10b7b6e": {
          "model_module": "@jupyter-widgets/base",
          "model_name": "LayoutModel",
          "state": {
            "_view_name": "LayoutView",
            "grid_template_rows": null,
            "right": null,
            "justify_content": null,
            "_view_module": "@jupyter-widgets/base",
            "overflow": null,
            "_model_module_version": "1.2.0",
            "_view_count": null,
            "flex_flow": null,
            "width": null,
            "min_width": null,
            "border": null,
            "align_items": null,
            "bottom": null,
            "_model_module": "@jupyter-widgets/base",
            "top": null,
            "grid_column": null,
            "overflow_y": null,
            "overflow_x": null,
            "grid_auto_flow": null,
            "grid_area": null,
            "grid_template_columns": null,
            "flex": null,
            "_model_name": "LayoutModel",
            "justify_items": null,
            "grid_row": null,
            "max_height": null,
            "align_content": null,
            "visibility": null,
            "align_self": null,
            "height": null,
            "min_height": null,
            "padding": null,
            "grid_auto_rows": null,
            "grid_gap": null,
            "max_width": null,
            "order": null,
            "_view_module_version": "1.2.0",
            "grid_template_areas": null,
            "object_position": null,
            "object_fit": null,
            "grid_auto_columns": null,
            "margin": null,
            "display": null,
            "left": null
          }
        }
      }
    }
  },
  "cells": [
    {
      "cell_type": "markdown",
      "metadata": {
        "id": "view-in-github",
        "colab_type": "text"
      },
      "source": [
        "<a href=\"https://colab.research.google.com/github/vedvkandge2000/SVHN-Classification-in-pytorch/blob/master/DSAI_TASK.ipynb\" target=\"_parent\"><img src=\"https://colab.research.google.com/assets/colab-badge.svg\" alt=\"Open In Colab\"/></a>"
      ]
    },
    {
      "cell_type": "code",
      "metadata": {
        "id": "xdHpYJnHuQvW",
        "colab_type": "code",
        "colab": {}
      },
      "source": [
        "import torch\n",
        "import torch.nn as nn\n",
        "import torchvision\n",
        "import torchvision.transforms as transforms\n",
        "import torchvision.datasets as datasets\n",
        "import matplotlib.pyplot as plt\n",
        "import scipy.io as sio\n",
        "import torch.optim as optim\n",
        "from torch.optim import lr_scheduler\n",
        "import sys"
      ],
      "execution_count": null,
      "outputs": []
    },
    {
      "cell_type": "code",
      "metadata": {
        "id": "XZdxXhY-ussT",
        "colab_type": "code",
        "colab": {
          "base_uri": "https://localhost:8080/",
          "height": 114,
          "referenced_widgets": [
            "aa7841715349416995d175d833e5caf3",
            "12a10d305d2f441a9745fbd434a63674",
            "ca905f49d6c74f18901684d283a2b906",
            "ff490f399a1a495da27d730aacf1bc1b",
            "9a9f421763c742229d79336886c7420b",
            "89f879d34d944abca8ca80c1abe76c8e",
            "05e41cc3672b44b1befc396ac9956fb7",
            "afe7b486f3d140219ff978bde5f21266",
            "74d7561337ff4cf5b635e5adb7b34838",
            "ab382357093a4834836f69f9278a5fd4",
            "6ce037ca40c346bc8e9eb45934a10f5b",
            "f3d781a2b4f44ab79fe5812e8342a9a9",
            "c6b28b38f8ca46ab8d0574bf5b6a593a",
            "ed8cec4090fc4da49f48ef4efce922ab",
            "3f6b024df9da4a8b9ea3586dca5cb824",
            "c15ae49a7f24477ab9ea4a04e10b7b6e"
          ]
        },
        "outputId": "85662120-4073-4026-85c9-4f0aa872a91b"
      },
      "source": [
        "transform = transforms.Compose([\n",
        "                    transforms.ToTensor(),\n",
        "                    transforms.Normalize((0.5, 0.5, 0.5), (0.5, 0.5, 0.5))])\n",
        "\n",
        "\n",
        "train_dataset = torchvision.datasets.SVHN('./data', split='train',download=True,transform=transform)\n",
        "\n",
        "test_dataset = torchvision.datasets.SVHN('./data', split='test',download=True,transform=transform)"
      ],
      "execution_count": null,
      "outputs": [
        {
          "output_type": "stream",
          "text": [
            "Downloading http://ufldl.stanford.edu/housenumbers/train_32x32.mat to ./data/train_32x32.mat\n"
          ],
          "name": "stdout"
        },
        {
          "output_type": "display_data",
          "data": {
            "application/vnd.jupyter.widget-view+json": {
              "model_id": "aa7841715349416995d175d833e5caf3",
              "version_minor": 0,
              "version_major": 2
            },
            "text/plain": [
              "HBox(children=(FloatProgress(value=1.0, bar_style='info', max=1.0), HTML(value='')))"
            ]
          },
          "metadata": {
            "tags": []
          }
        },
        {
          "output_type": "stream",
          "text": [
            "Downloading http://ufldl.stanford.edu/housenumbers/test_32x32.mat to ./data/test_32x32.mat\n"
          ],
          "name": "stdout"
        },
        {
          "output_type": "display_data",
          "data": {
            "application/vnd.jupyter.widget-view+json": {
              "model_id": "74d7561337ff4cf5b635e5adb7b34838",
              "version_minor": 0,
              "version_major": 2
            },
            "text/plain": [
              "HBox(children=(FloatProgress(value=1.0, bar_style='info', max=1.0), HTML(value='')))"
            ]
          },
          "metadata": {
            "tags": []
          }
        }
      ]
    },
    {
      "cell_type": "code",
      "metadata": {
        "id": "RFu7jBasu3_z",
        "colab_type": "code",
        "colab": {
          "base_uri": "https://localhost:8080/",
          "height": 283
        },
        "outputId": "9761c4b7-7e58-4ebd-86b2-ef9fdd0a08fd"
      },
      "source": [
        "# Optional Code just for visualization\n",
        "\n",
        "image_ind = 99  # Any index you want to visualize\n",
        "train_data = sio.loadmat('./data/train_32x32.mat')\n",
        "\n",
        "# access to the dict\n",
        "x_train = train_data['X']\n",
        "y_train = train_data['y']\n",
        "\n",
        "# show sample\n",
        "plt.imshow(x_train[:,:,:,image_ind])\n",
        "plt.show()\n",
        "\n",
        "\n",
        "print(\"Label : \", y_train[image_ind].item())"
      ],
      "execution_count": null,
      "outputs": [
        {
          "output_type": "display_data",
          "data": {
            "image/png": "[encoded data removed]",
            "text/plain": [
              "<Figure size 432x288 with 1 Axes>"
            ]
          },
          "metadata": {
            "tags": [],
            "needs_background": "light"
          }
        },
        {
          "output_type": "stream",
          "text": [
            "Label :  7\n"
          ],
          "name": "stdout"
        }
      ]
    },
    {
      "cell_type": "code",
      "metadata": {
        "id": "An-WyR4_vIyO",
        "colab_type": "code",
        "colab": {}
      },
      "source": [
        "batch_size = 512\n",
        "\n",
        "train_load = torch.utils.data.DataLoader(dataset = train_dataset,\n",
        "                                         batch_size=512,\n",
        "                                         shuffle=True)\n",
        "\n",
        "test_load = torch.utils.data.DataLoader(dataset = test_dataset,\n",
        "                                         batch_size=512,\n",
        "                                         shuffle=True)"
      ],
      "execution_count": null,
      "outputs": []
    },
    {
      "cell_type": "code",
      "metadata": {
        "id": "xBE46c0Pz2SM",
        "colab_type": "code",
        "colab": {
          "base_uri": "https://localhost:8080/",
          "height": 34
        },
        "outputId": "523a5883-0766-42ed-9cf8-5befaab915bf"
      },
      "source": [
        "device  = 'cuda' if torch.cuda.is_available() else 'cpu'\n",
        "print('Notebook will use : ' + device.upper())\n",
        "# Use GPU for computation"
      ],
      "execution_count": null,
      "outputs": [
        {
          "output_type": "stream",
          "text": [
            "Notebook will use : CUDA\n"
          ],
          "name": "stdout"
        }
      ]
    },
    {
      "cell_type": "code",
      "metadata": {
        "id": "mRjYqR2jvNJi",
        "colab_type": "code",
        "colab": {}
      },
      "source": [
        "class CNN(nn.Module):\n",
        "  def __init__(self):\n",
        "    super(CNN,self).__init__()\n",
        "    # Same Padding = (filter_size-1)/2 --> (3-1)/2 = 1\n",
        "    self.cnn1 = nn.Conv2d(in_channels=3,out_channels=32,kernel_size=3,stride=1,padding=1)\n",
        "    self.batchnorm1 = nn.BatchNorm2d(32)\n",
        "    self.relu = nn.ReLU()\n",
        "    self.cnn2 = nn.Conv2d(in_channels=32,out_channels=32,kernel_size=3,stride=1,padding=1) \n",
        "    # The output size of each 32 features is:\n",
        "    # [(input_size - filter_size + 2(padding))/stride + 1] --> 16\n",
        "    self.maxpool = nn.MaxPool2d(kernel_size=2, stride=2)\n",
        "    self.dropout = nn.Dropout(p=0.3)\n",
        "    self.cnn3 = nn.Conv2d(in_channels=32,out_channels=64,kernel_size=3,stride=1,padding=1)\n",
        "    self.batchnorm2 = nn.BatchNorm2d(64)\n",
        "    self.cnn4 = nn.Conv2d(in_channels=64,out_channels=64,kernel_size=3,stride=1,padding=1)\n",
        "    # The output size of each 64 features is:\n",
        "    # [(input_size - filter_size + 2(padding))/stride + 1] --> 8\n",
        "    self.cnn5 = nn.Conv2d(in_channels=64,out_channels=128,kernel_size=3,stride=1,padding=1)\n",
        "    self.batchnorm3 = nn.BatchNorm2d(128)\n",
        "    self.cnn6 = nn.Conv2d(in_channels=128,out_channels=128,kernel_size=3,stride=1,padding=1)\n",
        "    # The output size of each 128 features is:\n",
        "    # [(input_size - filter_size + 2(padding))/stride + 1] --> 4\n",
        "     # Flatten 128 feature maps 128*4*4 = 2048\n",
        "    self.fc1 = nn.Linear(2048,128)\n",
        "    self.dropout2 = nn.Dropout(p=0.4)\n",
        "    self.fc2 = nn.Linear(128,10)\n",
        "  \n",
        "  def forward(self,x):\n",
        "    out = self.relu(self.cnn1(x))\n",
        "    out = self.batchnorm1(out)\n",
        "    out = self.relu(self.cnn2(out))\n",
        "    out = self.maxpool(out)\n",
        "    out = self.dropout(out)\n",
        "    out = self.relu(self.cnn3(out))\n",
        "    out = self.batchnorm2(out)\n",
        "    out = self.relu(self.cnn4(out))\n",
        "    out = self.maxpool(out)\n",
        "    out = self.dropout(out)\n",
        "    out = self.relu(self.cnn5(out))\n",
        "    out = self.batchnorm3(out)\n",
        "    out = self.relu(self.cnn6(out))\n",
        "    out = self.maxpool(out)\n",
        "    out = self.dropout(out)\n",
        "    # faltten 128 feature maps from maxpool to feed it to fc1 -->(128*4*4)\n",
        "    out = out.view(-1,2048)\n",
        "    # we move forward to our fully connected layer\n",
        "    out = self.fc1(out)\n",
        "    out = self.relu(out)\n",
        "    out = self.dropout2(out)\n",
        "    out = self.fc2(out)\n",
        "    return out\n"
      ],
      "execution_count": null,
      "outputs": []
    },
    {
      "cell_type": "code",
      "metadata": {
        "id": "XfZnpzDLw1c5",
        "colab_type": "code",
        "colab": {}
      },
      "source": [
        "model = CNN()\n",
        "model = model.to(device)\n",
        "\n",
        "loss_fn = nn.CrossEntropyLoss()\n",
        "optimizer = torch.optim.Adam(model.parameters(), lr=0.001)"
      ],
      "execution_count": null,
      "outputs": []
    },
    {
      "cell_type": "code",
      "metadata": {
        "id": "X5FSicrEw2p4",
        "colab_type": "code",
        "colab": {
          "base_uri": "https://localhost:8080/",
          "height": 437
        },
        "outputId": "0d06ad80-5c84-4be7-a5b9-08e579768804"
      },
      "source": [
        "# Training the CNN\n",
        "num_epochs = 25\n",
        "train_loss = []\n",
        "train_accuracy = []\n",
        "\n",
        "for epoch in range(num_epochs):\n",
        "  correct = 0\n",
        "  iterations = 0\n",
        "  iter_loss = 0.0\n",
        "\n",
        "  model.train()  # We have specify that currently we are training the model because we have added dropout and batchnormalization \n",
        "\n",
        "  for i, (inputs,labels) in enumerate(train_load):\n",
        "    inputs = inputs.to(device)\n",
        "    labels = labels.to(device)\n",
        "    outputs = model(inputs)\n",
        "    loss = loss_fn(outputs,labels)\n",
        "    iter_loss += loss.item()\n",
        "\n",
        "    optimizer.zero_grad()\n",
        "    loss.backward()\n",
        "    optimizer.step()\n",
        "\n",
        "    _,predicted = torch.max(outputs,1)\n",
        "    correct += (predicted == labels).sum().item()\n",
        "    iterations += 1\n",
        "\n",
        "  train_loss.append(iter_loss/iterations)\n",
        "  train_accuracy.append(100 * correct / len(train_dataset))\n",
        "\n",
        "  print(\"Epoch {}/{}, Training Loss: {:.3f}, Training Accuracy: {:.3f}\".format(\n",
        "      epoch+1, num_epochs, train_loss[-1], train_accuracy[-1]))\n",
        "  "
      ],
      "execution_count": null,
      "outputs": [
        {
          "output_type": "stream",
          "text": [
            "Epoch 1/25, Training Loss: 1.370, Training Accuracy: 52.570\n",
            "Epoch 2/25, Training Loss: 0.601, Training Accuracy: 81.258\n",
            "Epoch 3/25, Training Loss: 0.477, Training Accuracy: 85.487\n",
            "Epoch 4/25, Training Loss: 0.402, Training Accuracy: 87.989\n",
            "Epoch 5/25, Training Loss: 0.353, Training Accuracy: 89.911\n",
            "Epoch 6/25, Training Loss: 0.316, Training Accuracy: 91.209\n",
            "Epoch 7/25, Training Loss: 0.293, Training Accuracy: 91.960\n",
            "Epoch 8/25, Training Loss: 0.278, Training Accuracy: 92.264\n",
            "Epoch 9/25, Training Loss: 0.253, Training Accuracy: 93.022\n",
            "Epoch 10/25, Training Loss: 0.239, Training Accuracy: 93.478\n",
            "Epoch 11/25, Training Loss: 0.230, Training Accuracy: 93.797\n",
            "Epoch 12/25, Training Loss: 0.223, Training Accuracy: 94.055\n",
            "Epoch 13/25, Training Loss: 0.214, Training Accuracy: 94.121\n",
            "Epoch 14/25, Training Loss: 0.202, Training Accuracy: 94.485\n",
            "Epoch 15/25, Training Loss: 0.193, Training Accuracy: 94.634\n",
            "Epoch 16/25, Training Loss: 0.189, Training Accuracy: 94.817\n",
            "Epoch 17/25, Training Loss: 0.182, Training Accuracy: 94.863\n",
            "Epoch 18/25, Training Loss: 0.175, Training Accuracy: 95.246\n",
            "Epoch 19/25, Training Loss: 0.173, Training Accuracy: 95.132\n",
            "Epoch 20/25, Training Loss: 0.163, Training Accuracy: 95.389\n",
            "Epoch 21/25, Training Loss: 0.159, Training Accuracy: 95.550\n",
            "Epoch 22/25, Training Loss: 0.158, Training Accuracy: 95.598\n",
            "Epoch 23/25, Training Loss: 0.153, Training Accuracy: 95.632\n",
            "Epoch 24/25, Training Loss: 0.148, Training Accuracy: 95.824\n",
            "Epoch 25/25, Training Loss: 0.149, Training Accuracy: 95.816\n"
          ],
          "name": "stdout"
        }
      ]
    },
    {
      "cell_type": "code",
      "metadata": {
        "id": "v2Z7HpN10zLI",
        "colab_type": "code",
        "colab": {}
      },
      "source": [
        "def progress(curr, total, suffix=''):\n",
        "  bar_len = 48\n",
        "  filled = int(round(bar_len * curr / float(total)))\n",
        "  if filled == 0:\n",
        "    filled = 1\n",
        "  bar = '=' * (filled - 1) + '>' + '-' * (bar_len - filled)\n",
        "  sys.stdout.write('\\r[%s] .. %s' % (bar, suffix))\n",
        "  sys.stdout.flush()\n",
        "  if curr == total:\n",
        "    bar = bar_len * '='\n",
        "    sys.stdout.write('\\r[%s] .. %s .. Completed\\n' % (bar, suffix))\n",
        "# Referenced from workshop notebook. "
      ],
      "execution_count": null,
      "outputs": []
    },
    {
      "cell_type": "code",
      "metadata": {
        "id": "M-UN1KqGxEID",
        "colab_type": "code",
        "colab": {
          "base_uri": "https://localhost:8080/",
          "height": 50
        },
        "outputId": "c7966b4d-aea1-44cc-c885-0c9a6f66d934"
      },
      "source": [
        "correct = 0\n",
        "model.eval()\n",
        "for j, (images, labels) in enumerate(test_load):\n",
        "  images, labels = images.to(device), labels.to(device)\n",
        "  logits = model(images)\n",
        "  _, preds = torch.max(logits, 1)\n",
        "  correct += (preds == labels).sum().item()\n",
        "  progress(j+1, len(test_load), 'Batch [{}/{}]'.format(j+1, len(test_load)))\n",
        "model.train()\n",
        "print('Accuracy = {}%'.format(float(correct) * 100 / len(test_dataset)))"
      ],
      "execution_count": null,
      "outputs": [
        {
          "output_type": "stream",
          "text": [
            "[================================================] .. Batch [51/51] .. Completed\n",
            "Accuracy = 95.55931161647203%\n"
          ],
          "name": "stdout"
        }
      ]
    },
    {
      "cell_type": "code",
      "metadata": {
        "id": "45QQuzlZ0m1q",
        "colab_type": "code",
        "colab": {}
      },
      "source": [
        "torch.save(model.state_dict(), 'model.pt')"
      ],
      "execution_count": null,
      "outputs": []
    },
    {
      "cell_type": "code",
      "metadata": {
        "id": "IeT6enVh6YhO",
        "colab_type": "code",
        "colab": {}
      },
      "source": [
        "MODEL = CNN()\n",
        "MODEL = MODEL.to(device)"
      ],
      "execution_count": null,
      "outputs": []
    },
    {
      "cell_type": "code",
      "metadata": {
        "id": "TEqWPGVJ7JgT",
        "colab_type": "code",
        "colab": {
          "base_uri": "https://localhost:8080/",
          "height": 34
        },
        "outputId": "103a584c-a0f1-448f-d3b8-b7f69fdc485a"
      },
      "source": [
        "MODEL.load_state_dict(torch.load('model.pt'))"
      ],
      "execution_count": null,
      "outputs": [
        {
          "output_type": "execute_result",
          "data": {
            "text/plain": [
              "<All keys matched successfully>"
            ]
          },
          "metadata": {
            "tags": []
          },
          "execution_count": 28
        }
      ]
    },
    {
      "cell_type": "code",
      "metadata": {
        "id": "-FnnHHdC7Mom",
        "colab_type": "code",
        "colab": {
          "base_uri": "https://localhost:8080/",
          "height": 50
        },
        "outputId": "d173a99e-b919-41bc-e7bd-2dc7161d5015"
      },
      "source": [
        "correct = 0\n",
        "MODEL.eval()\n",
        "for j, (images, labels) in enumerate(test_load):\n",
        "  images, labels = images.to(device), labels.to(device)\n",
        "  logits = model(images)\n",
        "  _, preds = torch.max(logits, 1)\n",
        "  correct += (preds == labels).sum().item()\n",
        "  progress(j+1, len(test_load), 'Batch [{}/{}]'.format(j+1, len(test_load)))\n",
        "MODEL.train()\n",
        "print('Accuracy = {}%'.format(float(correct) * 100 / len(test_dataset)))"
      ],
      "execution_count": null,
      "outputs": [
        {
          "output_type": "stream",
          "text": [
            "[================================================] .. Batch [51/51] .. Completed\n",
            "Accuracy = 93.4119545175169%\n"
          ],
          "name": "stdout"
        }
      ]
    },
    {
      "cell_type": "code",
      "metadata": {
        "id": "pZVRYq4E7URS",
        "colab_type": "code",
        "colab": {}
      },
      "source": [
        "!touch model.py"
      ],
      "execution_count": null,
      "outputs": []
    },
    {
      "cell_type": "code",
      "metadata": {
        "id": "WLyqVV4C8Yzc",
        "colab_type": "code",
        "colab": {}
      },
      "source": [
        ""
      ],
      "execution_count": null,
      "outputs": []
    }
  ]
}